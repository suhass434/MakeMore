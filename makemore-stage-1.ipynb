{
 "cells": [
  {
   "cell_type": "code",
   "execution_count": 1,
   "id": "d9feed33",
   "metadata": {
    "execution": {
     "iopub.execute_input": "2024-09-21T01:46:08.236641Z",
     "iopub.status.busy": "2024-09-21T01:46:08.236165Z",
     "iopub.status.idle": "2024-09-21T01:46:11.768867Z",
     "shell.execute_reply": "2024-09-21T01:46:11.767642Z"
    },
    "papermill": {
     "duration": 3.545134,
     "end_time": "2024-09-21T01:46:11.772039",
     "exception": false,
     "start_time": "2024-09-21T01:46:08.226905",
     "status": "completed"
    },
    "tags": []
   },
   "outputs": [],
   "source": [
    "import torch\n",
    "import torch.nn.functional as F\n",
    "import matplotlib.pyplot as plt"
   ]
  },
  {
   "cell_type": "code",
   "execution_count": 2,
   "id": "d6571bf1",
   "metadata": {
    "execution": {
     "iopub.execute_input": "2024-09-21T01:46:11.789345Z",
     "iopub.status.busy": "2024-09-21T01:46:11.788092Z",
     "iopub.status.idle": "2024-09-21T01:46:11.822943Z",
     "shell.execute_reply": "2024-09-21T01:46:11.821661Z"
    },
    "papermill": {
     "duration": 0.046403,
     "end_time": "2024-09-21T01:46:11.826045",
     "exception": false,
     "start_time": "2024-09-21T01:46:11.779642",
     "status": "completed"
    },
    "tags": []
   },
   "outputs": [],
   "source": [
    "words = open('/kaggle/input/makemore-dataset-new/names.txt','r').read().splitlines()"
   ]
  },
  {
   "cell_type": "code",
   "execution_count": 3,
   "id": "3a519680",
   "metadata": {
    "execution": {
     "iopub.execute_input": "2024-09-21T01:46:11.841581Z",
     "iopub.status.busy": "2024-09-21T01:46:11.841081Z",
     "iopub.status.idle": "2024-09-21T01:46:11.851102Z",
     "shell.execute_reply": "2024-09-21T01:46:11.849683Z"
    },
    "papermill": {
     "duration": 0.02082,
     "end_time": "2024-09-21T01:46:11.853810",
     "exception": false,
     "start_time": "2024-09-21T01:46:11.832990",
     "status": "completed"
    },
    "tags": []
   },
   "outputs": [
    {
     "data": {
      "text/plain": [
       "32033"
      ]
     },
     "execution_count": 3,
     "metadata": {},
     "output_type": "execute_result"
    }
   ],
   "source": [
    "len(words)"
   ]
  },
  {
   "cell_type": "code",
   "execution_count": 4,
   "id": "ec3fb1b8",
   "metadata": {
    "execution": {
     "iopub.execute_input": "2024-09-21T01:46:11.869956Z",
     "iopub.status.busy": "2024-09-21T01:46:11.869450Z",
     "iopub.status.idle": "2024-09-21T01:46:11.882269Z",
     "shell.execute_reply": "2024-09-21T01:46:11.880638Z"
    },
    "papermill": {
     "duration": 0.024249,
     "end_time": "2024-09-21T01:46:11.885188",
     "exception": false,
     "start_time": "2024-09-21T01:46:11.860939",
     "status": "completed"
    },
    "tags": []
   },
   "outputs": [],
   "source": [
    "chars = sorted(list(set(''.join(words))))\n",
    "stoi = {s:i+1 for i,s in enumerate(chars)}\n",
    "stoi['.'] = 0\n",
    "itos = {i:s for s,i in stoi.items()}"
   ]
  },
  {
   "cell_type": "code",
   "execution_count": 5,
   "id": "6aac6ca6",
   "metadata": {
    "execution": {
     "iopub.execute_input": "2024-09-21T01:46:11.901546Z",
     "iopub.status.busy": "2024-09-21T01:46:11.901015Z",
     "iopub.status.idle": "2024-09-21T01:46:11.910030Z",
     "shell.execute_reply": "2024-09-21T01:46:11.908621Z"
    },
    "papermill": {
     "duration": 0.020287,
     "end_time": "2024-09-21T01:46:11.912694",
     "exception": false,
     "start_time": "2024-09-21T01:46:11.892407",
     "status": "completed"
    },
    "tags": []
   },
   "outputs": [],
   "source": [
    "batch_size = 3\n",
    "def build_dataset(words):\n",
    "    X,Y = [],[]\n",
    "    for w in words:\n",
    "        #print(w)\n",
    "        context = [0]*batch_size\n",
    "        \n",
    "        for ch in w+'.':\n",
    "            ix = stoi[ch]\n",
    "            X.append(context)\n",
    "            Y.append(ix)\n",
    "            #print(''.join(itos[i] for i in context),'--->',ch)\n",
    "            context = context[1:]+[ix]\n",
    "            \n",
    "    X = torch.tensor(X)\n",
    "    Y = torch.tensor(Y)\n",
    "    return X,Y"
   ]
  },
  {
   "cell_type": "code",
   "execution_count": 6,
   "id": "4a297541",
   "metadata": {
    "execution": {
     "iopub.execute_input": "2024-09-21T01:46:11.929569Z",
     "iopub.status.busy": "2024-09-21T01:46:11.929062Z",
     "iopub.status.idle": "2024-09-21T01:46:12.928877Z",
     "shell.execute_reply": "2024-09-21T01:46:12.927472Z"
    },
    "papermill": {
     "duration": 1.012166,
     "end_time": "2024-09-21T01:46:12.931936",
     "exception": false,
     "start_time": "2024-09-21T01:46:11.919770",
     "status": "completed"
    },
    "tags": []
   },
   "outputs": [],
   "source": [
    "import random\n",
    "random.seed(42)\n",
    "random.shuffle(words)\n",
    "\n",
    "n1 = int(len(words)*0.8)\n",
    "n2 = int(len(words)*0.9)\n",
    "\n",
    "Xtr,Ytr = build_dataset(words[:n1])\n",
    "Xdev,Ydev = build_dataset(words[n1:n2])\n",
    "Xte,Yte = build_dataset(words[n2:])"
   ]
  },
  {
   "cell_type": "code",
   "execution_count": 7,
   "id": "07347fb3",
   "metadata": {
    "execution": {
     "iopub.execute_input": "2024-09-21T01:46:12.948154Z",
     "iopub.status.busy": "2024-09-21T01:46:12.947699Z",
     "iopub.status.idle": "2024-09-21T01:46:12.954791Z",
     "shell.execute_reply": "2024-09-21T01:46:12.953470Z"
    },
    "papermill": {
     "duration": 0.01866,
     "end_time": "2024-09-21T01:46:12.957571",
     "exception": false,
     "start_time": "2024-09-21T01:46:12.938911",
     "status": "completed"
    },
    "tags": []
   },
   "outputs": [
    {
     "name": "stdout",
     "output_type": "stream",
     "text": [
      "torch.Size([182625, 3]) torch.Size([182625])\n",
      "torch.Size([22655, 3]) torch.Size([22655])\n",
      "torch.Size([22866, 3]) torch.Size([22866])\n"
     ]
    }
   ],
   "source": [
    "print(Xtr.shape,Ytr.shape)\n",
    "print(Xdev.shape,Ydev.shape)\n",
    "print(Xte.shape,Yte.shape)"
   ]
  },
  {
   "cell_type": "code",
   "execution_count": 8,
   "id": "fa393bd4",
   "metadata": {
    "execution": {
     "iopub.execute_input": "2024-09-21T01:46:12.974290Z",
     "iopub.status.busy": "2024-09-21T01:46:12.973265Z",
     "iopub.status.idle": "2024-09-21T01:46:12.992608Z",
     "shell.execute_reply": "2024-09-21T01:46:12.991446Z"
    },
    "papermill": {
     "duration": 0.030601,
     "end_time": "2024-09-21T01:46:12.995327",
     "exception": false,
     "start_time": "2024-09-21T01:46:12.964726",
     "status": "completed"
    },
    "tags": []
   },
   "outputs": [],
   "source": [
    "g = torch.Generator().manual_seed(2147483647)\n",
    "C = torch.randn((27,10),generator=g) \n",
    "W1 = torch.randn((30,200),generator=g)\n",
    "b1 = torch.randn(200,generator=g)\n",
    "W2 = torch.randn((200,27),generator=g)\n",
    "b2 = torch.randn(27,generator=g)\n",
    "parameters = [C,W1,b1,W2,b2]"
   ]
  },
  {
   "cell_type": "code",
   "execution_count": 9,
   "id": "cd3afb40",
   "metadata": {
    "execution": {
     "iopub.execute_input": "2024-09-21T01:46:13.011686Z",
     "iopub.status.busy": "2024-09-21T01:46:13.010999Z",
     "iopub.status.idle": "2024-09-21T01:46:13.021621Z",
     "shell.execute_reply": "2024-09-21T01:46:13.020452Z"
    },
    "papermill": {
     "duration": 0.021635,
     "end_time": "2024-09-21T01:46:13.024193",
     "exception": false,
     "start_time": "2024-09-21T01:46:13.002558",
     "status": "completed"
    },
    "tags": []
   },
   "outputs": [
    {
     "data": {
      "text/plain": [
       "11897"
      ]
     },
     "execution_count": 9,
     "metadata": {},
     "output_type": "execute_result"
    }
   ],
   "source": [
    "sum(p.nelement() for p in parameters)"
   ]
  },
  {
   "cell_type": "code",
   "execution_count": 10,
   "id": "9d59a95e",
   "metadata": {
    "execution": {
     "iopub.execute_input": "2024-09-21T01:46:13.041163Z",
     "iopub.status.busy": "2024-09-21T01:46:13.040705Z",
     "iopub.status.idle": "2024-09-21T01:46:13.046904Z",
     "shell.execute_reply": "2024-09-21T01:46:13.045459Z"
    },
    "papermill": {
     "duration": 0.018137,
     "end_time": "2024-09-21T01:46:13.049781",
     "exception": false,
     "start_time": "2024-09-21T01:46:13.031644",
     "status": "completed"
    },
    "tags": []
   },
   "outputs": [],
   "source": [
    "for p in parameters:\n",
    "    p.requires_grad = True"
   ]
  },
  {
   "cell_type": "code",
   "execution_count": 11,
   "id": "1d80c424",
   "metadata": {
    "execution": {
     "iopub.execute_input": "2024-09-21T01:46:13.068403Z",
     "iopub.status.busy": "2024-09-21T01:46:13.067275Z",
     "iopub.status.idle": "2024-09-21T01:46:13.102819Z",
     "shell.execute_reply": "2024-09-21T01:46:13.101456Z"
    },
    "papermill": {
     "duration": 0.047782,
     "end_time": "2024-09-21T01:46:13.105805",
     "exception": false,
     "start_time": "2024-09-21T01:46:13.058023",
     "status": "completed"
    },
    "tags": []
   },
   "outputs": [],
   "source": [
    "lr = torch.linspace(-3,0,1000)\n",
    "lre = 10**lr"
   ]
  },
  {
   "cell_type": "code",
   "execution_count": 12,
   "id": "72d75145",
   "metadata": {
    "execution": {
     "iopub.execute_input": "2024-09-21T01:46:13.122202Z",
     "iopub.status.busy": "2024-09-21T01:46:13.121754Z",
     "iopub.status.idle": "2024-09-21T01:48:22.579924Z",
     "shell.execute_reply": "2024-09-21T01:48:22.578664Z"
    },
    "papermill": {
     "duration": 129.476703,
     "end_time": "2024-09-21T01:48:22.589786",
     "exception": false,
     "start_time": "2024-09-21T01:46:13.113083",
     "status": "completed"
    },
    "tags": []
   },
   "outputs": [
    {
     "name": "stdout",
     "output_type": "stream",
     "text": [
      "1.9748015403747559\n"
     ]
    }
   ],
   "source": [
    "stepi = []\n",
    "lri = []\n",
    "lossi = []\n",
    "batch_size = 32\n",
    "for i in range(200000):\n",
    "    #minibatch construct\n",
    "    ix = torch.randint(0,Xtr.shape[0],(batch_size,))\n",
    "    \n",
    "    #forwards pass\n",
    "    emb = C[Xtr[ix]]\n",
    "    h = torch.tanh(emb.view(-1,30) @ W1 + b1)\n",
    "    logits = h @ W2 + b2\n",
    "    loss = F.cross_entropy(logits,Ytr[ix])\n",
    "    \n",
    "    #backward pass\n",
    "    for p in parameters:\n",
    "        p.grad = None\n",
    "    loss.backward()\n",
    "    \n",
    "    #update\n",
    "    lr = 0.1 if i < 100000 else 0.01\n",
    "    for p in parameters:\n",
    "        p.data += -lr * p.grad\n",
    "    stepi.append(i)\n",
    "    lossi.append(loss.log10().item())\n",
    "print(loss.item())"
   ]
  },
  {
   "cell_type": "code",
   "execution_count": 13,
   "id": "a2cd771a",
   "metadata": {
    "execution": {
     "iopub.execute_input": "2024-09-21T01:48:22.607554Z",
     "iopub.status.busy": "2024-09-21T01:48:22.606515Z",
     "iopub.status.idle": "2024-09-21T01:48:23.282950Z",
     "shell.execute_reply": "2024-09-21T01:48:23.281583Z"
    },
    "papermill": {
     "duration": 0.68799,
     "end_time": "2024-09-21T01:48:23.285855",
     "exception": false,
     "start_time": "2024-09-21T01:48:22.597865",
     "status": "completed"
    },
    "tags": []
   },
   "outputs": [
    {
     "data": {
      "text/plain": [
       "[<matplotlib.lines.Line2D at 0x7d95b26fe8c0>]"
      ]
     },
     "execution_count": 13,
     "metadata": {},
     "output_type": "execute_result"
    },
    {
     "data": {
      "image/png": "[encoded data removed]",
      "text/plain": [
       "<Figure size 640x480 with 1 Axes>"
      ]
     },
     "metadata": {},
     "output_type": "display_data"
    }
   ],
   "source": [
    "plt.plot(stepi,lossi)"
   ]
  },
  {
   "cell_type": "code",
   "execution_count": 14,
   "id": "364ba6a3",
   "metadata": {
    "execution": {
     "iopub.execute_input": "2024-09-21T01:48:23.304659Z",
     "iopub.status.busy": "2024-09-21T01:48:23.304147Z",
     "iopub.status.idle": "2024-09-21T01:48:23.725733Z",
     "shell.execute_reply": "2024-09-21T01:48:23.724509Z"
    },
    "papermill": {
     "duration": 0.43411,
     "end_time": "2024-09-21T01:48:23.728667",
     "exception": false,
     "start_time": "2024-09-21T01:48:23.294557",
     "status": "completed"
    },
    "tags": []
   },
   "outputs": [
    {
     "data": {
      "text/plain": [
       "2.1243271827697754"
      ]
     },
     "execution_count": 14,
     "metadata": {},
     "output_type": "execute_result"
    }
   ],
   "source": [
    "emb = C[Xtr]\n",
    "h = torch.tanh(emb.view(-1,30) @ W1 + b1)\n",
    "logits = h @ W2 + b2\n",
    "loss = F.cross_entropy(logits,Ytr)\n",
    "loss.item()"
   ]
  },
  {
   "cell_type": "code",
   "execution_count": 15,
   "id": "e8dfea8e",
   "metadata": {
    "execution": {
     "iopub.execute_input": "2024-09-21T01:48:23.746935Z",
     "iopub.status.busy": "2024-09-21T01:48:23.746468Z",
     "iopub.status.idle": "2024-09-21T01:48:23.813908Z",
     "shell.execute_reply": "2024-09-21T01:48:23.812535Z"
    },
    "papermill": {
     "duration": 0.079848,
     "end_time": "2024-09-21T01:48:23.816793",
     "exception": false,
     "start_time": "2024-09-21T01:48:23.736945",
     "status": "completed"
    },
    "tags": []
   },
   "outputs": [
    {
     "data": {
      "text/plain": [
       "2.1650748252868652"
      ]
     },
     "execution_count": 15,
     "metadata": {},
     "output_type": "execute_result"
    }
   ],
   "source": [
    "emb = C[Xdev]\n",
    "h = torch.tanh(emb.view(-1,30) @ W1 + b1)\n",
    "logits = h @ W2 + b2\n",
    "loss = F.cross_entropy(logits,Ydev)\n",
    "loss.item()"
   ]
  },
  {
   "cell_type": "code",
   "execution_count": 16,
   "id": "caac663d",
   "metadata": {
    "execution": {
     "iopub.execute_input": "2024-09-21T01:48:23.835800Z",
     "iopub.status.busy": "2024-09-21T01:48:23.834874Z",
     "iopub.status.idle": "2024-09-21T01:48:23.881710Z",
     "shell.execute_reply": "2024-09-21T01:48:23.880473Z"
    },
    "papermill": {
     "duration": 0.059385,
     "end_time": "2024-09-21T01:48:23.884507",
     "exception": false,
     "start_time": "2024-09-21T01:48:23.825122",
     "status": "completed"
    },
    "tags": []
   },
   "outputs": [
    {
     "data": {
      "text/plain": [
       "2.1626062393188477"
      ]
     },
     "execution_count": 16,
     "metadata": {},
     "output_type": "execute_result"
    }
   ],
   "source": [
    "emb = C[Xte]\n",
    "h = torch.tanh(emb.view(-1,30) @ W1 + b1)\n",
    "logits = h @ W2 + b2\n",
    "loss = F.cross_entropy(logits,Yte)\n",
    "loss.item()"
   ]
  },
  {
   "cell_type": "code",
   "execution_count": 17,
   "id": "dd583296",
   "metadata": {
    "execution": {
     "iopub.execute_input": "2024-09-21T01:48:23.903944Z",
     "iopub.status.busy": "2024-09-21T01:48:23.903468Z",
     "iopub.status.idle": "2024-09-21T01:48:24.342615Z",
     "shell.execute_reply": "2024-09-21T01:48:24.341391Z"
    },
    "papermill": {
     "duration": 0.452107,
     "end_time": "2024-09-21T01:48:24.345069",
     "exception": false,
     "start_time": "2024-09-21T01:48:23.892962",
     "status": "completed"
    },
    "tags": []
   },
   "outputs": [
    {
     "data": {
      "image/png": "[encoded data removed]",
      "text/plain": [
       "<Figure size 800x800 with 1 Axes>"
      ]
     },
     "metadata": {},
     "output_type": "display_data"
    }
   ],
   "source": [
    "# visualize dimensions 0 and 1 of the embedding matrix C for all characters\n",
    "plt.figure(figsize=(8,8))\n",
    "plt.scatter(C[:,0].data, C[:,1].data, s=200)\n",
    "for i in range(C.shape[0]):\n",
    "    plt.text(C[i,0].item(), C[i,1].item(), itos[i], ha=\"center\", va=\"center\", color='white')\n",
    "plt.grid('minor')"
   ]
  },
  {
   "cell_type": "code",
   "execution_count": 18,
   "id": "80ecb8ea",
   "metadata": {
    "execution": {
     "iopub.execute_input": "2024-09-21T01:48:24.365368Z",
     "iopub.status.busy": "2024-09-21T01:48:24.364439Z",
     "iopub.status.idle": "2024-09-21T01:48:24.414762Z",
     "shell.execute_reply": "2024-09-21T01:48:24.413422Z"
    },
    "papermill": {
     "duration": 0.063635,
     "end_time": "2024-09-21T01:48:24.417756",
     "exception": false,
     "start_time": "2024-09-21T01:48:24.354121",
     "status": "completed"
    },
    "tags": []
   },
   "outputs": [
    {
     "name": "stdout",
     "output_type": "stream",
     "text": [
      "mora.\n",
      "mayah.\n",
      "see.\n",
      "mad.\n",
      "ryal.\n",
      "tevarstendraig.\n",
      "adee.\n",
      "daeliianni.\n",
      "jen.\n",
      "eden.\n",
      "sananar.\n",
      "kayzion.\n",
      "kamin.\n",
      "shubergiaganest.\n",
      "jaireelle.\n",
      "xet.\n",
      "adanu.\n",
      "mayven.\n",
      "jamari.\n",
      "eli.\n"
     ]
    }
   ],
   "source": [
    "g = torch.Generator().manual_seed(2147483647 + 10)\n",
    "\n",
    "batch_size = 3\n",
    "for _ in range(20):\n",
    "    out = []\n",
    "    context = [0]* batch_size\n",
    "    \n",
    "    while True:\n",
    "        emb = C[torch.tensor([context])]\n",
    "        h = torch.tanh(emb.view(1,-1) @ W1 + b1)\n",
    "        logits = h @ W2 + b2\n",
    "        probs = F.softmax(logits,dim=1)\n",
    "        ix = torch.multinomial(probs,num_samples=1,generator=g).item()\n",
    "        context = context[1:]+[ix]\n",
    "        out.append(ix)\n",
    "        \n",
    "        if ix==0:\n",
    "            break\n",
    "    print(''.join(itos[i] for i in out))"
   ]
  }
 ],
 "metadata": {
  "kaggle": {
   "accelerator": "none",
   "dataSources": [
    {
     "datasetId": 5669698,
     "sourceId": 9352989,
     "sourceType": "datasetVersion"
    }
   ],
   "dockerImageVersionId": 30761,
   "isGpuEnabled": false,
   "isInternetEnabled": true,
   "language": "python",
   "sourceType": "notebook"
  },
  "kernelspec": {
   "display_name": "Python 3",
   "language": "python",
   "name": "python3"
  },
  "language_info": {
   "codemirror_mode": {
    "name": "ipython",
    "version": 3
   },
   "file_extension": ".py",
   "mimetype": "text/x-python",
   "name": "python",
   "nbconvert_exporter": "python",
   "pygments_lexer": "ipython3",
   "version": "3.10.14"
  },
  "papermill": {
   "default_parameters": {},
   "duration": 140.512698,
   "end_time": "2024-09-21T01:48:25.357109",
   "environment_variables": {},
   "exception": null,
   "input_path": "__notebook__.ipynb",
   "output_path": "__notebook__.ipynb",
   "parameters": {},
   "start_time": "2024-09-21T01:46:04.844411",
   "version": "2.6.0"
  }
 },
 "nbformat": 4,
 "nbformat_minor": 5
}
